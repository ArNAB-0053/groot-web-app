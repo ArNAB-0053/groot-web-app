{
 "cells": [
  {
   "cell_type": "markdown",
   "metadata": {},
   "source": [
    "# Plant Disease Detection"
   ]
  },
  {
   "cell_type": "markdown",
   "metadata": {
    "id": "rPw7by-7Fs5M"
   },
   "source": [
    "Dataset Link: https://www.kaggle.com/datasets/vipoooool/new-plant-diseases-dataset"
   ]
  },
  {
   "cell_type": "code",
   "execution_count": 1,
   "metadata": {},
   "outputs": [
    {
     "name": "stdout",
     "output_type": "stream",
     "text": [
      "Found a GPU with the name: PhysicalDevice(name='/physical_device:GPU:0', device_type='GPU')\n"
     ]
    }
   ],
   "source": [
    "import tensorflow as tf\n",
    "gpus = tf.config.list_physical_devices(\"GPU\")\n",
    "if gpus:\n",
    "    for gpu in gpus:\n",
    "        print(\"Found a GPU with the name:\", gpu)\n",
    "else:\n",
    "    print(\"Failed to detect a GPU.\")"
   ]
  },
  {
   "cell_type": "markdown",
   "metadata": {
    "id": "5vUbBvinu8zW"
   },
   "source": [
    "## Importing libraries"
   ]
  },
  {
   "cell_type": "code",
   "execution_count": 2,
   "metadata": {
    "id": "4JsejDm3uxTS"
   },
   "outputs": [],
   "source": [
    "import tensorflow as tf\n",
    "import matplotlib.pyplot as plt\n",
    "import pandas as pd\n",
    "import seaborn as sns"
   ]
  },
  {
   "cell_type": "markdown",
   "metadata": {
    "id": "i2w52yYrvTu9"
   },
   "source": [
    "## Data Preprocessing"
   ]
  },
  {
   "cell_type": "markdown",
   "metadata": {
    "id": "vU3NlcKCwlIZ"
   },
   "source": [
    "### Training Image preprocessing"
   ]
  },
  {
   "cell_type": "code",
   "execution_count": 3,
   "metadata": {
    "colab": {
     "base_uri": "https://localhost:8080/"
    },
    "id": "Kjoa0oUHvQAv",
    "outputId": "35053f0d-5fd0-4b98-cd8f-fa0a88a79e8f"
   },
   "outputs": [
    {
     "name": "stdout",
     "output_type": "stream",
     "text": [
      "Found 70291 files belonging to 38 classes.\n"
     ]
    }
   ],
   "source": [
    "training_set = tf.keras.utils.image_dataset_from_directory(\n",
    "    'train',\n",
    "    labels=\"inferred\",\n",
    "    label_mode=\"categorical\",\n",
    "    class_names=None,\n",
    "    color_mode=\"rgb\",\n",
    "    batch_size=32,\n",
    "    image_size=(128, 128),\n",
    "    shuffle=True,\n",
    "    seed=None,\n",
    "    validation_split=None,\n",
    "    subset=None,\n",
    "    interpolation=\"bilinear\",\n",
    "    follow_links=False,\n",
    "    crop_to_aspect_ratio=False\n",
    ")"
   ]
  },
  {
   "cell_type": "markdown",
   "metadata": {
    "id": "nK9Ev76o0mdJ"
   },
   "source": [
    "### Validation Image Preprocessing"
   ]
  },
  {
   "cell_type": "code",
   "execution_count": 4,
   "metadata": {
    "colab": {
     "base_uri": "https://localhost:8080/"
    },
    "id": "Tocls4IowkNB",
    "outputId": "3b0d8b3d-8552-4e0f-c1f2-7c9f7e28a944"
   },
   "outputs": [
    {
     "name": "stdout",
     "output_type": "stream",
     "text": [
      "Found 17572 files belonging to 38 classes.\n"
     ]
    }
   ],
   "source": [
    "validation_set = tf.keras.utils.image_dataset_from_directory(\n",
    "    'valid',\n",
    "    labels=\"inferred\",\n",
    "    label_mode=\"categorical\",\n",
    "    class_names=None,\n",
    "    color_mode=\"rgb\",\n",
    "    batch_size=32,\n",
    "    image_size=(128, 128),\n",
    "    shuffle=True,\n",
    "    seed=None,\n",
    "    validation_split=None,\n",
    "    subset=None,\n",
    "    interpolation=\"bilinear\",\n",
    "    follow_links=False,\n",
    "    crop_to_aspect_ratio=False\n",
    ")"
   ]
  },
  {
   "cell_type": "markdown",
   "metadata": {
    "id": "OQ_TcbD7r2Cw"
   },
   "source": [
    "## Building Model"
   ]
  },
  {
   "cell_type": "code",
   "execution_count": 5,
   "metadata": {
    "id": "cUMiJrPvsBTU"
   },
   "outputs": [],
   "source": [
    "cnn = tf.keras.models.Sequential()"
   ]
  },
  {
   "cell_type": "markdown",
   "metadata": {
    "id": "mgFWYq7ssLkV"
   },
   "source": [
    "### Building Convolution Layer"
   ]
  },
  {
   "cell_type": "code",
   "execution_count": 6,
   "metadata": {
    "id": "LoaODWuZrHFg"
   },
   "outputs": [],
   "source": [
    "cnn.add(tf.keras.layers.Conv2D(filters=32,kernel_size=3,padding='same',activation='relu',input_shape=[128,128,3]))\n",
    "cnn.add(tf.keras.layers.Conv2D(filters=32,kernel_size=3,activation='relu'))\n",
    "cnn.add(tf.keras.layers.MaxPool2D(pool_size=2,strides=2))"
   ]
  },
  {
   "cell_type": "code",
   "execution_count": 7,
   "metadata": {
    "id": "5-potKmKsOr2"
   },
   "outputs": [],
   "source": [
    "cnn.add(tf.keras.layers.Conv2D(filters=64,kernel_size=3,padding='same',activation='relu'))\n",
    "cnn.add(tf.keras.layers.Conv2D(filters=64,kernel_size=3,activation='relu'))\n",
    "cnn.add(tf.keras.layers.MaxPool2D(pool_size=2,strides=2))"
   ]
  },
  {
   "cell_type": "code",
   "execution_count": 8,
   "metadata": {},
   "outputs": [],
   "source": [
    "cnn.add(tf.keras.layers.Conv2D(filters=128,kernel_size=3,padding='same',activation='relu'))\n",
    "cnn.add(tf.keras.layers.Conv2D(filters=128,kernel_size=3,activation='relu'))\n",
    "cnn.add(tf.keras.layers.MaxPool2D(pool_size=2,strides=2))"
   ]
  },
  {
   "cell_type": "code",
   "execution_count": 9,
   "metadata": {},
   "outputs": [],
   "source": [
    "cnn.add(tf.keras.layers.Conv2D(filters=256,kernel_size=3,padding='same',activation='relu'))\n",
    "cnn.add(tf.keras.layers.Conv2D(filters=256,kernel_size=3,activation='relu'))\n",
    "cnn.add(tf.keras.layers.MaxPool2D(pool_size=2,strides=2))"
   ]
  },
  {
   "cell_type": "code",
   "execution_count": 10,
   "metadata": {},
   "outputs": [],
   "source": [
    "cnn.add(tf.keras.layers.Conv2D(filters=512,kernel_size=3,padding='same',activation='relu'))\n",
    "cnn.add(tf.keras.layers.Conv2D(filters=512,kernel_size=3,activation='relu'))\n",
    "cnn.add(tf.keras.layers.MaxPool2D(pool_size=2,strides=2))"
   ]
  },
  {
   "cell_type": "code",
   "execution_count": 11,
   "metadata": {},
   "outputs": [],
   "source": [
    "cnn.add(tf.keras.layers.Dropout(0.25))"
   ]
  },
  {
   "cell_type": "code",
   "execution_count": 12,
   "metadata": {
    "id": "NPZ2NGthuTv5"
   },
   "outputs": [],
   "source": [
    "cnn.add(tf.keras.layers.Flatten())"
   ]
  },
  {
   "cell_type": "code",
   "execution_count": 13,
   "metadata": {
    "id": "demjWjcWuc3q"
   },
   "outputs": [],
   "source": [
    "cnn.add(tf.keras.layers.Dense(units=1500,activation='relu'))"
   ]
  },
  {
   "cell_type": "code",
   "execution_count": 14,
   "metadata": {
    "id": "2onuZO6YuBF3"
   },
   "outputs": [],
   "source": [
    "cnn.add(tf.keras.layers.Dropout(0.4)) #To avoid overfitting"
   ]
  },
  {
   "cell_type": "code",
   "execution_count": 15,
   "metadata": {
    "id": "toAqflkCuwoS"
   },
   "outputs": [],
   "source": [
    "#Output Layer\n",
    "cnn.add(tf.keras.layers.Dense(units=38,activation='softmax'))"
   ]
  },
  {
   "cell_type": "markdown",
   "metadata": {},
   "source": [
    "### Model Training"
   ]
  },
  {
   "cell_type": "code",
   "execution_count": 16,
   "metadata": {},
   "outputs": [],
   "source": [
    "cnn.compile(optimizer=tf.keras.optimizers.legacy.Adam(\n",
    "    learning_rate=0.0001),loss='categorical_crossentropy',metrics=['accuracy'])"
   ]
  },
  {
   "cell_type": "code",
   "execution_count": 17,
   "metadata": {},
   "outputs": [
    {
     "name": "stdout",
     "output_type": "stream",
     "text": [
      "Model: \"sequential\"\n",
      "_________________________________________________________________\n",
      " Layer (type)                Output Shape              Param #   \n",
      "=================================================================\n",
      " conv2d (Conv2D)             (None, 128, 128, 32)      896       \n",
      "                                                                 \n",
      " conv2d_1 (Conv2D)           (None, 126, 126, 32)      9248      \n",
      "                                                                 \n",
      " max_pooling2d (MaxPooling2D  (None, 63, 63, 32)       0         \n",
      " )                                                               \n",
      "                                                                 \n",
      " conv2d_2 (Conv2D)           (None, 63, 63, 64)        18496     \n",
      "                                                                 \n",
      " conv2d_3 (Conv2D)           (None, 61, 61, 64)        36928     \n",
      "                                                                 \n",
      " max_pooling2d_1 (MaxPooling  (None, 30, 30, 64)       0         \n",
      " 2D)                                                             \n",
      "                                                                 \n",
      " conv2d_4 (Conv2D)           (None, 30, 30, 128)       73856     \n",
      "                                                                 \n",
      " conv2d_5 (Conv2D)           (None, 28, 28, 128)       147584    \n",
      "                                                                 \n",
      " max_pooling2d_2 (MaxPooling  (None, 14, 14, 128)      0         \n",
      " 2D)                                                             \n",
      "                                                                 \n",
      " conv2d_6 (Conv2D)           (None, 14, 14, 256)       295168    \n",
      "                                                                 \n",
      " conv2d_7 (Conv2D)           (None, 12, 12, 256)       590080    \n",
      "                                                                 \n",
      " max_pooling2d_3 (MaxPooling  (None, 6, 6, 256)        0         \n",
      " 2D)                                                             \n",
      "                                                                 \n",
      " conv2d_8 (Conv2D)           (None, 6, 6, 512)         1180160   \n",
      "                                                                 \n",
      " conv2d_9 (Conv2D)           (None, 4, 4, 512)         2359808   \n",
      "                                                                 \n",
      " max_pooling2d_4 (MaxPooling  (None, 2, 2, 512)        0         \n",
      " 2D)                                                             \n",
      "                                                                 \n",
      " dropout (Dropout)           (None, 2, 2, 512)         0         \n",
      "                                                                 \n",
      " flatten (Flatten)           (None, 2048)              0         \n",
      "                                                                 \n",
      " dense (Dense)               (None, 1500)              3073500   \n",
      "                                                                 \n",
      " dropout_1 (Dropout)         (None, 1500)              0         \n",
      "                                                                 \n",
      " dense_1 (Dense)             (None, 38)                57038     \n",
      "                                                                 \n",
      "=================================================================\n",
      "Total params: 7,842,762\n",
      "Trainable params: 7,842,762\n",
      "Non-trainable params: 0\n",
      "_________________________________________________________________\n"
     ]
    }
   ],
   "source": [
    "cnn.summary()"
   ]
  },
  {
   "cell_type": "code",
   "execution_count": 18,
   "metadata": {},
   "outputs": [
    {
     "name": "stdout",
     "output_type": "stream",
     "text": [
      "Epoch 1/25\n",
      "2197/2197 [==============================] - 210s 94ms/step - loss: 1.4385 - accuracy: 0.5785 - val_loss: 0.4621 - val_accuracy: 0.8561\n",
      "Epoch 2/25\n",
      "2197/2197 [==============================] - 206s 93ms/step - loss: 0.4548 - accuracy: 0.8545 - val_loss: 0.2805 - val_accuracy: 0.9086\n",
      "Epoch 3/25\n",
      "2197/2197 [==============================] - 211s 96ms/step - loss: 0.2692 - accuracy: 0.9125 - val_loss: 0.2175 - val_accuracy: 0.9328\n",
      "Epoch 4/25\n",
      "2197/2197 [==============================] - 211s 96ms/step - loss: 0.1819 - accuracy: 0.9404 - val_loss: 0.1743 - val_accuracy: 0.9438\n",
      "Epoch 5/25\n",
      "2197/2197 [==============================] - 209s 95ms/step - loss: 0.1399 - accuracy: 0.9542 - val_loss: 0.1332 - val_accuracy: 0.9566\n",
      "Epoch 6/25\n",
      "2197/2197 [==============================] - 211s 96ms/step - loss: 0.1085 - accuracy: 0.9639 - val_loss: 0.1456 - val_accuracy: 0.9534\n",
      "Epoch 7/25\n",
      "2197/2197 [==============================] - 211s 96ms/step - loss: 0.0848 - accuracy: 0.9725 - val_loss: 0.1460 - val_accuracy: 0.9538\n",
      "Epoch 8/25\n",
      "2197/2197 [==============================] - 211s 96ms/step - loss: 0.0757 - accuracy: 0.9756 - val_loss: 0.1094 - val_accuracy: 0.9654\n",
      "Epoch 9/25\n",
      "2197/2197 [==============================] - 211s 96ms/step - loss: 0.0630 - accuracy: 0.9794 - val_loss: 0.1424 - val_accuracy: 0.9567\n",
      "Epoch 10/25\n",
      "2197/2197 [==============================] - 210s 95ms/step - loss: 0.0573 - accuracy: 0.9815 - val_loss: 0.1619 - val_accuracy: 0.9515\n",
      "Epoch 11/25\n",
      "2197/2197 [==============================] - 210s 95ms/step - loss: 0.0530 - accuracy: 0.9831 - val_loss: 0.1523 - val_accuracy: 0.9572\n",
      "Epoch 12/25\n",
      "2197/2197 [==============================] - 208s 95ms/step - loss: 0.0461 - accuracy: 0.9847 - val_loss: 0.1454 - val_accuracy: 0.9571\n",
      "Epoch 13/25\n",
      "2197/2197 [==============================] - 208s 94ms/step - loss: 0.0427 - accuracy: 0.9861 - val_loss: 0.1115 - val_accuracy: 0.9691\n",
      "Epoch 14/25\n",
      "2197/2197 [==============================] - 208s 94ms/step - loss: 0.0403 - accuracy: 0.9872 - val_loss: 0.1395 - val_accuracy: 0.9615\n",
      "Epoch 15/25\n",
      "2197/2197 [==============================] - 207s 94ms/step - loss: 0.0359 - accuracy: 0.9886 - val_loss: 0.1105 - val_accuracy: 0.9693\n",
      "Epoch 16/25\n",
      "2197/2197 [==============================] - 207s 94ms/step - loss: 0.0336 - accuracy: 0.9891 - val_loss: 0.1318 - val_accuracy: 0.9666\n",
      "Epoch 17/25\n",
      "2197/2197 [==============================] - 208s 95ms/step - loss: 0.0353 - accuracy: 0.9890 - val_loss: 0.0833 - val_accuracy: 0.9766\n",
      "Epoch 18/25\n",
      "2197/2197 [==============================] - 207s 94ms/step - loss: 0.0304 - accuracy: 0.9905 - val_loss: 0.1938 - val_accuracy: 0.9483\n",
      "Epoch 19/25\n",
      "2197/2197 [==============================] - 209s 95ms/step - loss: 0.0299 - accuracy: 0.9912 - val_loss: 0.1180 - val_accuracy: 0.9695\n",
      "Epoch 20/25\n",
      "2197/2197 [==============================] - 209s 95ms/step - loss: 0.0286 - accuracy: 0.9915 - val_loss: 0.0972 - val_accuracy: 0.9741\n",
      "Epoch 21/25\n",
      "2197/2197 [==============================] - 208s 95ms/step - loss: 0.0262 - accuracy: 0.9916 - val_loss: 0.1063 - val_accuracy: 0.9758\n",
      "Epoch 22/25\n",
      "2197/2197 [==============================] - 208s 95ms/step - loss: 0.0248 - accuracy: 0.9923 - val_loss: 0.1117 - val_accuracy: 0.9715\n",
      "Epoch 23/25\n",
      "2197/2197 [==============================] - 208s 95ms/step - loss: 0.0244 - accuracy: 0.9923 - val_loss: 0.1504 - val_accuracy: 0.9624\n",
      "Epoch 24/25\n",
      "2197/2197 [==============================] - 207s 94ms/step - loss: 0.0239 - accuracy: 0.9925 - val_loss: 0.0971 - val_accuracy: 0.9737\n",
      "Epoch 25/25\n",
      "2197/2197 [==============================] - 207s 94ms/step - loss: 0.0219 - accuracy: 0.9932 - val_loss: 0.1137 - val_accuracy: 0.9718\n"
     ]
    }
   ],
   "source": [
    "training_history = cnn.fit(x=training_set,validation_data=validation_set,epochs=25)"
   ]
  },
  {
   "cell_type": "markdown",
   "metadata": {},
   "source": [
    "# Using Resnet"
   ]
  },
  {
   "cell_type": "code",
   "execution_count": 19,
   "metadata": {},
   "outputs": [],
   "source": [
    "# import tensorflow\n",
    "# from tensorflow import keras\n",
    "# from keras.models import Sequential,load_model,Model\n",
    "# from keras.layers import Conv2D,MaxPool2D,AveragePooling2D,Dense,Flatten,ZeroPadding2D,BatchNormalization,Activation,Add,Input,Dropout,GlobalAveragePooling2D\n",
    "# from keras.optimizers import SGD\n",
    "# from keras.initializers import glorot_uniform\n",
    "# from keras.preprocessing.image import ImageDataGenerator\n",
    "# from keras.callbacks import ModelCheckpoint,EarlyStopping,ReduceLROnPlateau\n",
    "# from tensorflow.keras.applications import ResNet50\n",
    "# from tensorflow.keras.applications.resnet50 import preprocess_input"
   ]
  },
  {
   "cell_type": "code",
   "execution_count": 20,
   "metadata": {},
   "outputs": [],
   "source": [
    "# base_model_tf=ResNet50(include_top=False,weights='imagenet',input_shape=(224,224,3),classes=38)"
   ]
  },
  {
   "cell_type": "code",
   "execution_count": 21,
   "metadata": {},
   "outputs": [],
   "source": [
    "# #Model building\n",
    "# base_model_tf.trainable=False\n",
    "\n",
    "# pt=Input(shape=(224,224,3))\n",
    "# func=tensorflow.cast(pt,tensorflow.float32)\n",
    "# x=preprocess_input(func) #This function used to zero-center each color channel wrt Imagenet dataset\n",
    "# model_resnet=base_model_tf(x,training=False)\n",
    "# model_resnet=GlobalAveragePooling2D()(model_resnet)\n",
    "# model_resnet=Dense(128,activation='relu')(model_resnet)\n",
    "# model_resnet=Dense(64,activation='relu')(model_resnet)\n",
    "# model_resnet=Dense(38,activation='softmax')(model_resnet)\n",
    "\n",
    "\n",
    "# model_main=Model(inputs=pt,outputs=model_resnet)\n",
    "# model_main.summary()"
   ]
  },
  {
   "cell_type": "markdown",
   "metadata": {},
   "source": [
    "# Model training using ResNet"
   ]
  },
  {
   "cell_type": "code",
   "execution_count": null,
   "metadata": {},
   "outputs": [],
   "source": []
  },
  {
   "cell_type": "code",
   "execution_count": 22,
   "metadata": {},
   "outputs": [],
   "source": [
    "# train_datagen= ImageDataGenerator(shear_range=0.2,zoom_range=0.2,horizontal_flip=False,vertical_flip=False\n",
    "#                                   ,fill_mode='nearest',width_shift_range=0.2,height_shift_range=0.2)\n",
    "\n",
    "# val_datagen=ImageDataGenerator()\n",
    "\n",
    "# path_train='train'\n",
    "\n",
    "# path_valid='valid'\n",
    "\n",
    "# train= train_datagen.flow_from_directory(directory=path_train,batch_size=32,target_size=(224,224),\n",
    "#                                          color_mode='rgb',class_mode='categorical',seed=42)\n",
    "\n",
    "# valid=val_datagen.flow_from_directory(directory=path_valid,batch_size=32,target_size=(224,224),color_mode='rgb',class_mode='categorical')"
   ]
  },
  {
   "cell_type": "code",
   "execution_count": 23,
   "metadata": {},
   "outputs": [],
   "source": [
    "# es=EarlyStopping(monitor='val_accuracy',verbose=1,patience=7,mode='auto')\n",
    "# mc=ModelCheckpoint(filepath='./',monitor='val_accuracy',verbose=1,save_best_only=True)\n",
    "# lr=ReduceLROnPlateau(monitor='val_accuracy',verbose=1,patience=5,min_lr=0.001)"
   ]
  },
  {
   "cell_type": "code",
   "execution_count": 24,
   "metadata": {},
   "outputs": [],
   "source": [
    "# model_main.compile(optimizer='Adam',loss='categorical_crossentropy',metrics=['accuracy'])"
   ]
  },
  {
   "cell_type": "code",
   "execution_count": 25,
   "metadata": {
    "scrolled": true
   },
   "outputs": [],
   "source": [
    "# model_main.fit(\n",
    "#     train,\n",
    "#     validation_data=valid,\n",
    "#     epochs=5,\n",
    "#     steps_per_epoch=200,\n",
    "#     verbose=1,\n",
    "#     callbacks=[mc,es,lr])"
   ]
  },
  {
   "cell_type": "markdown",
   "metadata": {
    "id": "19E3mwj1phoW"
   },
   "source": [
    "## Evaluating Model"
   ]
  },
  {
   "cell_type": "code",
   "execution_count": 26,
   "metadata": {
    "colab": {
     "base_uri": "https://localhost:8080/"
    },
    "id": "iY6o3uxjpgl5",
    "outputId": "372a2b25-5cdd-47c0-da77-1e9a5ee84f6c"
   },
   "outputs": [
    {
     "name": "stdout",
     "output_type": "stream",
     "text": [
      "2197/2197 [==============================] - 70s 32ms/step - loss: 0.0195 - accuracy: 0.9942\n",
      "Training accuracy: 0.9941670894622803\n"
     ]
    }
   ],
   "source": [
    "#Training set Accuracy\n",
    "# train_loss, train_acc = model_main.evaluate(training_set)\n",
    "train_loss, train_acc = cnn.evaluate(training_set)\n",
    "print('Training accuracy:', train_acc)"
   ]
  },
  {
   "cell_type": "code",
   "execution_count": 27,
   "metadata": {
    "colab": {
     "base_uri": "https://localhost:8080/"
    },
    "id": "5SaQgd7bpgwl",
    "outputId": "0e82ce04-bdf8-4b31-bc00-cbb7198df7e7"
   },
   "outputs": [
    {
     "name": "stdout",
     "output_type": "stream",
     "text": [
      "550/550 [==============================] - 18s 32ms/step - loss: 0.1137 - accuracy: 0.9718\n",
      "Validation accuracy: 0.9718301892280579\n"
     ]
    }
   ],
   "source": [
    "#Validation set Accuracy\n",
    "# val_loss, val_acc = model_main.evaluate(validation_set)\n",
    "val_loss, val_acc = cnn.evaluate(validation_set)\n",
    "print('Validation accuracy:', val_acc)"
   ]
  },
  {
   "cell_type": "markdown",
   "metadata": {
    "id": "Qxp0xsjVBGec"
   },
   "source": [
    "### Saving Model"
   ]
  },
  {
   "cell_type": "code",
   "execution_count": 28,
   "metadata": {
    "id": "EEUrBzCrxKt_"
   },
   "outputs": [],
   "source": [
    "# model_main.save('trained_plant_disease_model.h5')\n",
    "cnn.save('trained_plant_disease_model.h5')"
   ]
  },
  {
   "cell_type": "code",
   "execution_count": 29,
   "metadata": {
    "colab": {
     "base_uri": "https://localhost:8080/"
    },
    "id": "BM-sILNMBwh1",
    "outputId": "3d1eb8a8-2742-4b1b-f8f3-10c1f0803975"
   },
   "outputs": [
    {
     "data": {
      "text/plain": [
       "{'loss': [1.4384554624557495,\n",
       "  0.45479616522789,\n",
       "  0.2692401111125946,\n",
       "  0.18191801011562347,\n",
       "  0.13987742364406586,\n",
       "  0.10845988988876343,\n",
       "  0.08477799594402313,\n",
       "  0.07566957920789719,\n",
       "  0.06304378062486649,\n",
       "  0.057279594242572784,\n",
       "  0.05302108824253082,\n",
       "  0.04610783979296684,\n",
       "  0.04265100881457329,\n",
       "  0.04026833921670914,\n",
       "  0.03590589761734009,\n",
       "  0.03358950838446617,\n",
       "  0.0352613627910614,\n",
       "  0.030352072790265083,\n",
       "  0.029880493879318237,\n",
       "  0.028554080054163933,\n",
       "  0.026210706681013107,\n",
       "  0.024844808503985405,\n",
       "  0.02437952160835266,\n",
       "  0.023899519816040993,\n",
       "  0.021896928548812866],\n",
       " 'accuracy': [0.5785093307495117,\n",
       "  0.8544906377792358,\n",
       "  0.9125208258628845,\n",
       "  0.9404048919677734,\n",
       "  0.9541904330253601,\n",
       "  0.9638787508010864,\n",
       "  0.972514271736145,\n",
       "  0.9756441116333008,\n",
       "  0.9793714880943298,\n",
       "  0.9815054535865784,\n",
       "  0.9831130504608154,\n",
       "  0.9846779704093933,\n",
       "  0.9860864281654358,\n",
       "  0.9871676564216614,\n",
       "  0.9886472225189209,\n",
       "  0.9890739917755127,\n",
       "  0.9890028834342957,\n",
       "  0.9904966354370117,\n",
       "  0.9911510944366455,\n",
       "  0.9915494322776794,\n",
       "  0.9916062951087952,\n",
       "  0.9923461079597473,\n",
       "  0.992260754108429,\n",
       "  0.9924741387367249,\n",
       "  0.9931997060775757],\n",
       " 'val_loss': [0.46213579177856445,\n",
       "  0.28047168254852295,\n",
       "  0.21748757362365723,\n",
       "  0.17430514097213745,\n",
       "  0.13319768011569977,\n",
       "  0.14563146233558655,\n",
       "  0.14599895477294922,\n",
       "  0.10939463973045349,\n",
       "  0.14240168035030365,\n",
       "  0.16186101734638214,\n",
       "  0.15233919024467468,\n",
       "  0.14541560411453247,\n",
       "  0.11150491237640381,\n",
       "  0.13945287466049194,\n",
       "  0.110467828810215,\n",
       "  0.13183946907520294,\n",
       "  0.08326318114995956,\n",
       "  0.19383712112903595,\n",
       "  0.11799734085798264,\n",
       "  0.09723091870546341,\n",
       "  0.10632046312093735,\n",
       "  0.11170236021280289,\n",
       "  0.15038099884986877,\n",
       "  0.09707225114107132,\n",
       "  0.11373422294855118],\n",
       " 'val_accuracy': [0.8560778498649597,\n",
       "  0.908604621887207,\n",
       "  0.9328477382659912,\n",
       "  0.9438310861587524,\n",
       "  0.9566355347633362,\n",
       "  0.9533917307853699,\n",
       "  0.9537901282310486,\n",
       "  0.9653995037078857,\n",
       "  0.9567493796348572,\n",
       "  0.9515137672424316,\n",
       "  0.9572046399116516,\n",
       "  0.9570908546447754,\n",
       "  0.9690985679626465,\n",
       "  0.9615297317504883,\n",
       "  0.9692692756652832,\n",
       "  0.9665945768356323,\n",
       "  0.9765536189079285,\n",
       "  0.9483268857002258,\n",
       "  0.9694969058036804,\n",
       "  0.9741065502166748,\n",
       "  0.9758138060569763,\n",
       "  0.9714887142181396,\n",
       "  0.9623833298683167,\n",
       "  0.9736512899398804,\n",
       "  0.9718301892280579]}"
      ]
     },
     "execution_count": 29,
     "metadata": {},
     "output_type": "execute_result"
    }
   ],
   "source": [
    "training_history.history #Return Dictionary of history"
   ]
  },
  {
   "cell_type": "code",
   "execution_count": 30,
   "metadata": {
    "id": "GdF3Ig4ZBU9V"
   },
   "outputs": [],
   "source": [
    "#Recording History in json\n",
    "import json\n",
    "with open('training_hist.json','w') as f:\n",
    "  json.dump(training_history.history,f)"
   ]
  },
  {
   "cell_type": "code",
   "execution_count": 31,
   "metadata": {
    "colab": {
     "base_uri": "https://localhost:8080/"
    },
    "id": "w8PnAYbuCNhu",
    "outputId": "665cd52d-4777-4e7e-9c04-cc7716c5fb62"
   },
   "outputs": [
    {
     "name": "stdout",
     "output_type": "stream",
     "text": [
      "dict_keys(['loss', 'accuracy', 'val_loss', 'val_accuracy'])\n"
     ]
    }
   ],
   "source": [
    "print(training_history.history.keys())"
   ]
  },
  {
   "cell_type": "markdown",
   "metadata": {
    "id": "qNIMPXKFEZ5B"
   },
   "source": [
    "## Accuracy Visualization"
   ]
  },
  {
   "cell_type": "code",
   "execution_count": 34,
   "metadata": {
    "colab": {
     "base_uri": "https://localhost:8080/",
     "height": 295
    },
    "id": "gfKdieuJCt3m",
    "outputId": "00c39bea-d59d-48bd-a9bb-f819e1313252"
   },
   "outputs": [
    {
     "data": {
      "image/png": "[encoded data removed]",
      "text/plain": [
       "<Figure size 640x480 with 1 Axes>"
      ]
     },
     "metadata": {},
     "output_type": "display_data"
    }
   ],
   "source": [
    "epochs = [i for i in range(1,26)]\n",
    "plt.plot(epochs,training_history.history['accuracy'],color='red',label='Training Accuracy')\n",
    "plt.plot(epochs,training_history.history['val_accuracy'],color='blue',label='Validation Accuracy')\n",
    "plt.xlabel('No. of Epochs')\n",
    "plt.title('Visualization of Accuracy Result')\n",
    "plt.legend()\n",
    "plt.show()"
   ]
  },
  {
   "cell_type": "code",
   "execution_count": null,
   "metadata": {
    "id": "MmHXzT0PAiOn"
   },
   "outputs": [],
   "source": []
  },
  {
   "cell_type": "markdown",
   "metadata": {},
   "source": [
    "## Some other metrics for model evaluation"
   ]
  },
  {
   "cell_type": "code",
   "execution_count": 35,
   "metadata": {},
   "outputs": [],
   "source": [
    "class_name = validation_set.class_names"
   ]
  },
  {
   "cell_type": "code",
   "execution_count": 36,
   "metadata": {},
   "outputs": [
    {
     "name": "stdout",
     "output_type": "stream",
     "text": [
      "Found 17572 files belonging to 38 classes.\n"
     ]
    }
   ],
   "source": [
    "test_set = tf.keras.utils.image_dataset_from_directory(\n",
    "    'valid',\n",
    "    labels=\"inferred\",\n",
    "    label_mode=\"categorical\",\n",
    "    class_names=None,\n",
    "    color_mode=\"rgb\",\n",
    "    batch_size=1,\n",
    "    image_size=(128, 128),\n",
    "    shuffle=False,\n",
    "    seed=None,\n",
    "    validation_split=None,\n",
    "    subset=None,\n",
    "    interpolation=\"bilinear\",\n",
    "    follow_links=False,\n",
    "    crop_to_aspect_ratio=False\n",
    ")"
   ]
  },
  {
   "cell_type": "code",
   "execution_count": null,
   "metadata": {},
   "outputs": [],
   "source": []
  },
  {
   "cell_type": "code",
   "execution_count": 37,
   "metadata": {},
   "outputs": [
    {
     "name": "stdout",
     "output_type": "stream",
     "text": [
      "17572/17572 [==============================] - 58s 3ms/step\n"
     ]
    }
   ],
   "source": [
    "y_pred = cnn.predict(test_set)\n",
    "predicted_categories = tf.argmax(y_pred, axis=1)"
   ]
  },
  {
   "cell_type": "code",
   "execution_count": 38,
   "metadata": {},
   "outputs": [],
   "source": [
    "true_categories = tf.concat([y for x, y in test_set], axis=0)\n",
    "Y_true = tf.argmax(true_categories, axis=1)"
   ]
  },
  {
   "cell_type": "code",
   "execution_count": 39,
   "metadata": {},
   "outputs": [
    {
     "data": {
      "text/plain": [
       "<tf.Tensor: shape=(17572,), dtype=int64, numpy=array([ 0,  0,  0, ..., 37, 37, 37], dtype=int64)>"
      ]
     },
     "execution_count": 39,
     "metadata": {},
     "output_type": "execute_result"
    }
   ],
   "source": [
    "Y_true"
   ]
  },
  {
   "cell_type": "code",
   "execution_count": 40,
   "metadata": {},
   "outputs": [
    {
     "data": {
      "text/plain": [
       "<tf.Tensor: shape=(17572,), dtype=int64, numpy=array([ 0,  0,  0, ..., 37, 37, 37], dtype=int64)>"
      ]
     },
     "execution_count": 40,
     "metadata": {},
     "output_type": "execute_result"
    }
   ],
   "source": [
    "predicted_categories"
   ]
  },
  {
   "cell_type": "code",
   "execution_count": null,
   "metadata": {},
   "outputs": [],
   "source": []
  },
  {
   "cell_type": "code",
   "execution_count": 41,
   "metadata": {},
   "outputs": [],
   "source": [
    "from sklearn.metrics import confusion_matrix,classification_report\n",
    "cm = confusion_matrix(Y_true,predicted_categories)"
   ]
  },
  {
   "cell_type": "code",
   "execution_count": 42,
   "metadata": {},
   "outputs": [
    {
     "name": "stdout",
     "output_type": "stream",
     "text": [
      "                                                    precision    recall  f1-score   support\n",
      "\n",
      "                                Apple___Apple_scab       0.98      0.98      0.98       504\n",
      "                                 Apple___Black_rot       1.00      0.99      1.00       497\n",
      "                          Apple___Cedar_apple_rust       1.00      0.96      0.98       440\n",
      "                                   Apple___healthy       0.97      0.98      0.98       502\n",
      "                               Blueberry___healthy       0.99      0.98      0.98       454\n",
      "          Cherry_(including_sour)___Powdery_mildew       1.00      0.95      0.97       421\n",
      "                 Cherry_(including_sour)___healthy       1.00      0.97      0.98       456\n",
      "Corn_(maize)___Cercospora_leaf_spot Gray_leaf_spot       0.90      0.97      0.93       410\n",
      "                       Corn_(maize)___Common_rust_       1.00      0.99      0.99       477\n",
      "               Corn_(maize)___Northern_Leaf_Blight       0.98      0.91      0.94       477\n",
      "                            Corn_(maize)___healthy       0.98      1.00      0.99       465\n",
      "                                 Grape___Black_rot       0.97      0.99      0.98       472\n",
      "                      Grape___Esca_(Black_Measles)       1.00      0.98      0.99       480\n",
      "        Grape___Leaf_blight_(Isariopsis_Leaf_Spot)       0.98      1.00      0.99       430\n",
      "                                   Grape___healthy       0.99      1.00      0.99       423\n",
      "          Orange___Haunglongbing_(Citrus_greening)       0.98      0.99      0.99       503\n",
      "                            Peach___Bacterial_spot       0.96      0.98      0.97       459\n",
      "                                   Peach___healthy       0.96      1.00      0.98       432\n",
      "                     Pepper,_bell___Bacterial_spot       0.98      0.97      0.97       478\n",
      "                            Pepper,_bell___healthy       0.95      0.97      0.96       497\n",
      "                             Potato___Early_blight       0.98      0.99      0.99       485\n",
      "                              Potato___Late_blight       0.94      0.98      0.96       485\n",
      "                                  Potato___healthy       0.97      0.99      0.98       456\n",
      "                               Raspberry___healthy       0.99      0.99      0.99       445\n",
      "                                 Soybean___healthy       0.96      0.99      0.97       505\n",
      "                           Squash___Powdery_mildew       0.98      1.00      0.99       434\n",
      "                          Strawberry___Leaf_scorch       0.99      0.99      0.99       444\n",
      "                              Strawberry___healthy       0.98      1.00      0.99       456\n",
      "                           Tomato___Bacterial_spot       0.99      0.95      0.97       425\n",
      "                             Tomato___Early_blight       0.95      0.87      0.91       480\n",
      "                              Tomato___Late_blight       0.99      0.87      0.92       463\n",
      "                                Tomato___Leaf_Mold       0.96      0.99      0.97       470\n",
      "                       Tomato___Septoria_leaf_spot       0.93      0.90      0.92       436\n",
      "     Tomato___Spider_mites Two-spotted_spider_mite       0.96      0.94      0.95       435\n",
      "                              Tomato___Target_Spot       0.88      0.95      0.92       457\n",
      "            Tomato___Tomato_Yellow_Leaf_Curl_Virus       0.97      1.00      0.99       490\n",
      "                      Tomato___Tomato_mosaic_virus       0.96      1.00      0.98       448\n",
      "                                  Tomato___healthy       0.98      0.99      0.98       481\n",
      "\n",
      "                                          accuracy                           0.97     17572\n",
      "                                         macro avg       0.97      0.97      0.97     17572\n",
      "                                      weighted avg       0.97      0.97      0.97     17572\n",
      "\n"
     ]
    }
   ],
   "source": [
    "# Precision Recall Fscore\n",
    "print(classification_report(Y_true,predicted_categories,target_names=class_name))"
   ]
  },
  {
   "cell_type": "markdown",
   "metadata": {},
   "source": [
    "### Confusion Matrix Visualization"
   ]
  },
  {
   "cell_type": "code",
   "execution_count": 43,
   "metadata": {},
   "outputs": [
    {
     "data": {
      "image/png": "[encoded data removed]",
      "text/plain": [
       "<Figure size 1500x1000 with 2 Axes>"
      ]
     },
     "metadata": {},
     "output_type": "display_data"
    }
   ],
   "source": [
    "plt.figure(figsize=(15, 10))\n",
    "sns.heatmap(cm,annot=True,annot_kws={\"size\": 7})\n",
    "\n",
    "plt.xlabel('Predicted Class',fontsize = 20)\n",
    "plt.ylabel('Actual Class',fontsize = 20)\n",
    "plt.title('Plant Disease Prediction Confusion Matrix',fontsize = 25)\n",
    "plt.show()"
   ]
  },
  {
   "cell_type": "code",
   "execution_count": null,
   "metadata": {},
   "outputs": [],
   "source": []
  }
 ],
 "metadata": {
  "colab": {
   "provenance": []
  },
  "kernelspec": {
   "display_name": "Python 3 (ipykernel)",
   "language": "python",
   "name": "python3"
  },
  "language_info": {
   "codemirror_mode": {
    "name": "ipython",
    "version": 3
   },
   "file_extension": ".py",
   "mimetype": "text/x-python",
   "name": "python",
   "nbconvert_exporter": "python",
   "pygments_lexer": "ipython3",
   "version": "3.10.9"
  }
 },
 "nbformat": 4,
 "nbformat_minor": 4
}
